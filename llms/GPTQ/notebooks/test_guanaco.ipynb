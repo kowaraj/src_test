{
 "cells": [
  {
   "cell_type": "code",
   "execution_count": null,
   "id": "8727fa2d-d767-491c-9e7a-fb213664e22f",
   "metadata": {},
   "outputs": [],
   "source": [
    "# get this model: \n",
    "# \n",
    "# GIT_LFS_SKIP_SMUDGE=1 git clone https://huggingface.co/TheBloke/guanaco-65B-GPTQ\n",
    "# wget https://huggingface.co/TheBloke/guanaco-65B-GPTQ/resolve/main/Guanaco-65B-GPTQ-4bit.act-order.safetensors\n",
    "# python server.py --listen --listen-port 3000  --wbits 4 --groupsize 128 --model guanaco-65B-GPTQ"
   ]
  },
  {
   "cell_type": "code",
   "execution_count": 19,
   "id": "8fc87e74-c0cc-45f2-b6bd-6e01d59260ca",
   "metadata": {
    "tags": []
   },
   "outputs": [
    {
     "name": "stdout",
     "output_type": "stream",
     "text": [
      "/workspace/notebooks/GPTQ\n",
      "/workspace/notebooks/GPTQ/notebooks\n"
     ]
    }
   ],
   "source": [
    "%cd /workspace/notebooks/GPTQ/\n",
    "from models import gptq\n",
    "%cd /workspace/notebooks/GPTQ/notebooks"
   ]
  },
  {
   "cell_type": "code",
   "execution_count": 23,
   "id": "8e95da57-e4c5-4512-bc17-cb81f4c172ac",
   "metadata": {
    "tags": []
   },
   "outputs": [
    {
     "data": {
      "text/plain": [
       "'/workspace/text-generation-webui/models/guanaco-65B-GPTQ/Guanaco-65B-GPTQ-4bit.act-order.safetensors'"
      ]
     },
     "execution_count": 23,
     "metadata": {},
     "output_type": "execute_result"
    }
   ],
   "source": [
    "# model: guanaco\n",
    "model_dir = \"/workspace/text-generation-webui/models/guanaco-65B-GPTQ\"\n",
    "model_file = model_dir + \"/Guanaco-65B-GPTQ-4bit.act-order.safetensors\"\n",
    "model_file"
   ]
  },
  {
   "cell_type": "code",
   "execution_count": 24,
   "id": "21f39f0a-4906-48f8-8b6c-66c3e1eca6cc",
   "metadata": {
    "tags": []
   },
   "outputs": [],
   "source": [
    "gpm = gptq.GPTQModel(model_dir, model_file)\n",
    "gpm.load()"
   ]
  }
 ],
 "metadata": {
  "kernelspec": {
   "display_name": "myenvKernel",
   "language": "python",
   "name": "myenvkernel"
  },
  "language_info": {
   "codemirror_mode": {
    "name": "ipython",
    "version": 3
   },
   "file_extension": ".py",
   "mimetype": "text/x-python",
   "name": "python",
   "nbconvert_exporter": "python",
   "pygments_lexer": "ipython3",
   "version": "3.10.10"
  }
 },
 "nbformat": 4,
 "nbformat_minor": 5
}
