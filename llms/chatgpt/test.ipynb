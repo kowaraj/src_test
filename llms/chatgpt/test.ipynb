{
 "cells": [
  {
   "cell_type": "code",
   "execution_count": 1,
   "id": "17ef2424",
   "metadata": {
    "collapsed": true
   },
   "outputs": [],
   "source": [
    "import openai"
   ]
  },
  {
   "cell_type": "code",
   "execution_count": 9,
   "id": "c5e4ec66",
   "metadata": {
    "scrolled": true
   },
   "outputs": [
    {
     "name": "stdout",
     "output_type": "stream",
     "text": [
      "\n",
      "Даша идёт по улице и натыкается на старика.\n",
      "\n",
      "- Что вы тут делаете? - спрашивает Даша.\n",
      "\n",
      "- Я жду моей внучки - отвечает старик.\n",
      "\n",
      "- Да ваша внучка уже давно здесь? - спрашивает Даша.\n",
      "\n",
      "- Нет, она еще не пришла, а я жду пока она придёт.\n"
     ]
    }
   ],
   "source": [
    "openai.api_key = \"sk-\"\n",
    "\n",
    "result = openai.Completion.create(\n",
    "            engine=\"text-davinci-003\",\n",
    "            prompt=\"Анекдот про дашу.\\n\",\n",
    "            temperature=0.7,\n",
    "            max_tokens=256,\n",
    "            top_p=1.0,\n",
    "            frequency_penalty=0.0,\n",
    "            presence_penalty=0.0\n",
    "        )\n",
    "\n",
    "response = result[\"choices\"][0][\"text\"]\n",
    "print(response)"
   ]
  },
  {
   "cell_type": "code",
   "execution_count": 7,
   "id": "e46f67b7",
   "metadata": {},
   "outputs": [
    {
     "name": "stdout",
     "output_type": "stream",
     "text": [
      "{\n",
      "  \"choices\": [\n",
      "    {\n",
      "      \"finish_reason\": \"length\",\n",
      "      \"index\": 0,\n",
      "      \"logprobs\": null,\n",
      "      \"text\": \"\\n\\u041a\\u043e\\u0441\\u0442\\u044f \\u043f\\u0440\\u0438\\u0445\\u043e\\u0434\\u0438\\u0442 \\u0432 \\u043c\\u0430\\u0433\\u0430\\u0437\\u0438\\u043d \\u0437\\u0430 \\u043f\\u0440\\u043e\\u0434\\u0443\\u043a\\u0442\\u0430\\u043c\\u0438 \\u0438 \\u0441\\u043f\\u0440\\u0430\\u0448\\u0438\\u0432\\u0430\\u0435\\u0442 \\u043f\\u0440\\u043e\\u0434\\u0430\\u0432\\u0446\\u0430:\\n- \\u0423 \\u0432\\u0430\\u0441 \\u0435\\u0441\\u0442\\u044c \\u043a\\u0430\\u043a\\u0438\\u0435-\\u043d\\u0438\\u0431\\u0443\\u0434\\u044c \\u0431\\u043b\\u0438\\u043d\\u044b?\\n\\u041f\\u0440\\u043e\\u0434\\u0430\\u0432\\u0435\\u0446 \\u043e\\u0442\\u0432\\u0435\\u0447\\u0430\\u0435\\u0442:\\n- \\u041d\\u0435\\u0442, \\u043d\\u043e \\u0443 \\u043d\\u0430\\u0441 \\u0435\\u0441\\u0442\\u044c \\u043c\\u043d\\u043e\\u0433\\u043e \\u0434\\u0440\\u0443\\u0433\\u0438\\u0445 \\u0432\\u043a\\u0443\\u0441\\u043d\\u044b\\u0445 \\u043f\\u0440\\u043e\\u0434\\u0443\\u043a\\u0442\\u043e\\u0432.\\n\\u041a\\u043e\\u0441\\u0442\\u044f \\u0443\\u0434\\u0438\\u0432\\u043b\\u0435\\u043d\\u043d\\u043e \\u043e\\u0442\\u0432\\u0435\\u0447\\u0430\\u0435\\u0442:\\n- \\u0410 \\u044f \\u0438 \\u0441\\u0430\\u043c \\u043d\\u0435 \\u043f\\u0440\\u043e\\u0448\\u0443 \\u0432\\u043a\\u0443\\u0441\\u043d\\u043e\\u0435, \\u044f \\u043f\\u0440\\u043e\\u0441\\u0442\\u043e \\u0445\\u043e\\u0447\\u0443\"\n",
      "    }\n",
      "  ],\n",
      "  \"created\": 1680279509,\n",
      "  \"id\": \"cmpl-70BkL8hAR0fjsHVzPu0UYdJkpJOdm\",\n",
      "  \"model\": \"text-davinci-003\",\n",
      "  \"object\": \"text_completion\",\n",
      "  \"usage\": {\n",
      "    \"completion_tokens\": 256,\n",
      "    \"prompt_tokens\": 21,\n",
      "    \"total_tokens\": 277\n",
      "  }\n",
      "}\n"
     ]
    }
   ],
   "source": [
    "print(result)"
   ]
  },
  {
   "cell_type": "code",
   "execution_count": null,
   "id": "b1d94a5b",
   "metadata": {},
   "outputs": [],
   "source": []
  }
 ],
 "metadata": {
  "kernelspec": {
   "display_name": "Python 3 (ipykernel)",
   "language": "python",
   "name": "python3"
  },
  "language_info": {
   "codemirror_mode": {
    "name": "ipython",
    "version": 3
   },
   "file_extension": ".py",
   "mimetype": "text/x-python",
   "name": "python",
   "nbconvert_exporter": "python",
   "pygments_lexer": "ipython3",
   "version": "3.9.16"
  }
 },
 "nbformat": 4,
 "nbformat_minor": 5
}
