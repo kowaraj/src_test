{
 "cells": [
  {
   "cell_type": "code",
   "execution_count": 1,
   "id": "d575749a-322c-46c8-96e1-e470c66df3d1",
   "metadata": {},
   "outputs": [],
   "source": [
    "gamma = 1.\n",
    "n = 4\n",
    "pi = [0.25, 0.25, 0.25, 0.25]\n",
    "terminal = [(0,0), (n-1,n-1)]\n",
    "v = [[0 for i in range(0,n)] for i in range(0,n)]\n",
    "r = [[0 if i==j==0 or i==j==(n-1) else -1 for i in range(0,n)] for j in range(0,n)]\n",
    "\n",
    "xy = [(x,y) for x in range(0,n) for y in range(0,n)]\n",
    "s_xy = dict([(a,0) for a in xy])\n",
    "p = dict([(ss, dict([(s,1) if s==ss else (s,0) for s in xy])) for ss in xy])"
   ]
  },
  {
   "cell_type": "code",
   "execution_count": 2,
   "id": "3bd61540-32d3-48ec-9d63-ce14d41ef246",
   "metadata": {},
   "outputs": [],
   "source": [
    "def U (x,y):\n",
    "    return (x, 0 if y<=0 else y-1) \n",
    "def D (x,y): \n",
    "    return (x, n-1 if y>=n-1 else y+1) \n",
    "def R (x,y): \n",
    "    return (n-1 if x>=n-1 else x+1, y)\n",
    "def L (x,y):\n",
    "    return (0 if x<=0 else x-1, y)\n",
    "def get_s (v, x, y):\n",
    "    return v[y][x]"
   ]
  },
  {
   "cell_type": "code",
   "execution_count": 3,
   "id": "6788dbd9-c6ba-4423-9d9e-dc64a83c1ff2",
   "metadata": {},
   "outputs": [],
   "source": [
    "def next_v (v, s):\n",
    "    a = [U, D, L, R]\n",
    "    sum_v = 0.\n",
    "    r_s = get_s(r, *s)\n",
    "    for i in range(len(a)):\n",
    "        sum_q = 0.\n",
    "        ss = s if s in terminal else a[i](*s)\n",
    "\n",
    "        for (sss, p_sss) in p[ss].items():\n",
    "            v_sss = get_s(v, *sss)\n",
    "            sum_q = sum_q + p_sss * v_sss\n",
    "        sum_v = sum_v + pi[i] * (r_s + gamma * sum_q)\n",
    "    return sum_v"
   ]
  },
  {
   "cell_type": "code",
   "execution_count": 8,
   "id": "e6526e35-49ac-462a-97e2-bc8b125e2485",
   "metadata": {},
   "outputs": [
    {
     "name": "stdout",
     "output_type": "stream",
     "text": [
      "   0.00000 -13.94261 -19.91495 -21.90483\n",
      "\n",
      " -13.94261 -17.92508 -19.91552 -19.91495\n",
      "\n",
      " -19.91495 -19.91552 -17.92508 -13.94261\n",
      "\n",
      " -21.90483 -19.91495 -13.94261   0.00000\n",
      "\n"
     ]
    }
   ],
   "source": [
    "v0 = v\n",
    "for i in range(0,100):\n",
    "    v0 = [ [next_v(v0, (x,y)) for x in range(0,n)] for y in range(0,n)]\n",
    "\n",
    "def show(v):\n",
    "    for y in range(0,n):\n",
    "        for x in range(0,n):\n",
    "            print('{: >10.5f}'.format(get_s(v,x,y)), end='')\n",
    "        print('\\n')    \n",
    "show(v0)"
   ]
  },
  {
   "cell_type": "code",
   "execution_count": null,
   "id": "faa9f36b-0cc0-496e-8dec-e4aab633b725",
   "metadata": {},
   "outputs": [],
   "source": []
  }
 ],
 "metadata": {
  "kernelspec": {
   "display_name": "Python 3 (ipykernel)",
   "language": "python",
   "name": "python3"
  },
  "language_info": {
   "codemirror_mode": {
    "name": "ipython",
    "version": 3
   },
   "file_extension": ".py",
   "mimetype": "text/x-python",
   "name": "python",
   "nbconvert_exporter": "python",
   "pygments_lexer": "ipython3",
   "version": "3.9.15"
  }
 },
 "nbformat": 4,
 "nbformat_minor": 5
}
