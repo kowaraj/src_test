{
 "cells": [
  {
   "cell_type": "code",
   "execution_count": 1,
   "id": "952e4f27",
   "metadata": {},
   "outputs": [
    {
     "name": "stdout",
     "output_type": "stream",
     "text": [
      "0.3114\n"
     ]
    }
   ],
   "source": [
    "import numpy as np\n",
    "\n",
    "def unroll(n):\n",
    "    i = n\n",
    "    for _ in range(50):\n",
    "        i = boxes[i]\n",
    "        if i == n: return True\n",
    "    return False\n",
    "\n",
    "trials, wins = 10000, 0\n",
    "for _ in range(trials):\n",
    "    boxes = np.arange(100)\n",
    "    np.random.shuffle(boxes)\n",
    "    win = all(unroll(n) for n in range(100))\n",
    "    if win: \n",
    "        wins += 1\n",
    "\n",
    "print(wins / trials)"
   ]
  },
  {
   "cell_type": "code",
   "execution_count": 6,
   "id": "f0b103e3-c63d-45af-a423-911d9c66f4c2",
   "metadata": {},
   "outputs": [],
   "source": [
    "%config Completer.use_jedi = False"
   ]
  },
  {
   "cell_type": "code",
   "execution_count": 12,
   "id": "3612ad84",
   "metadata": {},
   "outputs": [
    {
     "name": "stdout",
     "output_type": "stream",
     "text": [
      "0.0\n"
     ]
    }
   ],
   "source": [
    "import numpy as np\n",
    "\n",
    "def run(nth): \n",
    "    True\n",
    "    \n",
    "trials, wins = 100, 0\n",
    "for _ in range(trials):\n",
    "    boxes = np.arange(100)\n",
    "    np.random.shuffle(boxes)\n",
    "    win = all(run(n) for n in range(100))\n",
    "    if win: \n",
    "        wins += 1\n",
    "\n",
    "print(wins / trials)"
   ]
  },
  {
   "cell_type": "code",
   "execution_count": 15,
   "id": "277e4673-d13b-460e-ba28-d32a265883fa",
   "metadata": {},
   "outputs": [],
   "source": [
    "from math import log"
   ]
  },
  {
   "cell_type": "code",
   "execution_count": 18,
   "id": "a3c44f12-2122-4a95-9e20-57abcea169fa",
   "metadata": {},
   "outputs": [
    {
     "data": {
      "text/plain": [
       "0.3068528194400547"
      ]
     },
     "execution_count": 18,
     "metadata": {},
     "output_type": "execute_result"
    }
   ],
   "source": [
    "1- log(2)"
   ]
  },
  {
   "cell_type": "code",
   "execution_count": null,
   "id": "b7782331-ca2a-4fa2-8f35-1d6cb02a165c",
   "metadata": {},
   "outputs": [],
   "source": []
  }
 ],
 "metadata": {
  "kernelspec": {
   "display_name": "Python 3 (ipykernel)",
   "language": "python",
   "name": "python3"
  },
  "language_info": {
   "codemirror_mode": {
    "name": "ipython",
    "version": 3
   },
   "file_extension": ".py",
   "mimetype": "text/x-python",
   "name": "python",
   "nbconvert_exporter": "python",
   "pygments_lexer": "ipython3",
   "version": "3.9.12"
  }
 },
 "nbformat": 4,
 "nbformat_minor": 5
}
